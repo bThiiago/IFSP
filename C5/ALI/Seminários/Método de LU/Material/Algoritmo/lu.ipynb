{
 "cells": [
  {
   "cell_type": "markdown",
   "id": "1608f6d7",
   "metadata": {},
   "source": [
    "# Método da Decomposição LU\n",
    "## Objetivos\n",
    "Os objetivos desse notebook são três:\n",
    "\n",
    " 1. Implementar o método da decomposição LU.\n",
    "\n",
    " 2. Implementar o método que resolve o sistema LUx=b.\n",
    "\n",
    " 3. Usar os dois métodos acima para resolver sistemas lineares."
   ]
  },
  {
   "cell_type": "code",
   "execution_count": 1,
   "id": "e34e39bb",
   "metadata": {},
   "outputs": [],
   "source": [
    "def substituicoes_sucessivas(A, b):\n",
    "    '''Executa o método das substituições sucessivas para resolver o sistema \n",
    "       linear triangular inferior Ax=b.\n",
    "       Parâmetros de entrada: A é uma matriz triangular inferior e b é o vetor constante. \n",
    "       Saída: vetor x\n",
    "    '''\n",
    "    ## n é a ordem da matriz A\n",
    "    n = len(A)\n",
    "    \n",
    "    x = n * [0]\n",
    "    \n",
    "    for i in range(0, n):\n",
    "        s = 0\n",
    "        for j in range (0, i):\n",
    "            s = s + A[i][j]*x[j]\n",
    "        x[i] = (b[i]-s)/A[i][i]\n",
    "        \n",
    "    return x"
   ]
  },
  {
   "cell_type": "code",
   "execution_count": 2,
   "id": "1607b877",
   "metadata": {},
   "outputs": [],
   "source": [
    "def identidade(n):\n",
    "    '''Cria uma matriz identidade de ordem n.\n",
    "    Parâmetros de entrada:  n é a ordem da matriz.\n",
    "    Saída: matriz identidade de ordem n.\n",
    "    '''\n",
    "    m = []\n",
    "    \n",
    "    for i in range(0, n):\n",
    "        linha = [0] * n\n",
    "        linha[i] = 1\n",
    "        m.append(linha)\n",
    "        \n",
    "    return m"
   ]
  },
  {
   "cell_type": "code",
   "execution_count": 3,
   "id": "4c2ba1ae",
   "metadata": {},
   "outputs": [],
   "source": [
    "def lu(A):\n",
    "    '''\n",
    "    Decompõe a matriz A no produto de duas matrizes L e U. Onde L é uma matriz \n",
    "    triangular inferior unitária e U é uma matriz triangular superior.\n",
    "    Parâmetros de entrada: A é uma matriz quadrada de ordem n.\n",
    "    Saída: (L,U) tupla com as matrizes L e U\n",
    "    '''\n",
    "    n = len(A)\n",
    "    \n",
    "    ## Inicializa a matriz L com a matriz identidade\n",
    "    L = identidade(n)\n",
    "    \n",
    "    for k in range (0, n-1):\n",
    "        \n",
    "        # Para cada Linha i\n",
    "        for i in range(k+1, n):\n",
    "            \n",
    "            # Calcula o Fator m\n",
    "            m = - A[i][k]/A[k][k]\n",
    "            L[i][k] = -m\n",
    "            # Atualiza a linha i da matriz, percorrendo as colunas j\n",
    "            for j in range(k+1, n):\n",
    "                A[i][j] = m * A[k][j] + A[i][j]\n",
    "\n",
    "            # Zera o elemento Aik\n",
    "            A[i][k] = 0\n",
    "    \n",
    "    return (L, A)"
   ]
  },
  {
   "cell_type": "code",
   "execution_count": 4,
   "id": "52f5f02f",
   "metadata": {},
   "outputs": [
    {
     "name": "stdout",
     "output_type": "stream",
     "text": [
      "L: \n",
      "    1.000     0.000     0.000 \n",
      "   -2.000     1.000     0.000 \n",
      "    4.000     3.000     1.000 \n",
      "\n",
      "U: \n",
      "    1.000    -3.000     2.000 \n",
      "    0.000     2.000     3.000 \n",
      "    0.000     0.000   -12.000 \n",
      "\n"
     ]
    }
   ],
   "source": [
    "def formata_matriz(M):\n",
    "    m = len(M) # número de linhas\n",
    "    n = len(M[0]) # número de colunas\n",
    "    s = \"\"\n",
    "    for i in range(m):\n",
    "        for j in range(n):\n",
    "           s += \"%9.3f \" % M[i][j]\n",
    "        s += \"\\n\"\n",
    "    return s\n",
    "\n",
    "A = [[1, -3, 2],\n",
    "     [-2, 8, -1],\n",
    "     [4, -6, 5]]\n",
    "(L, U) = lu(A)\n",
    "print(\"L: \\n%s\" % formata_matriz(L))\n",
    "print(\"U: \\n%s\" % formata_matriz(U))"
   ]
  },
  {
   "cell_type": "code",
   "execution_count": 5,
   "id": "7be9edb7",
   "metadata": {},
   "outputs": [],
   "source": [
    "def substituicoes_retroativas(A, b):\n",
    "    '''Executa o método das substituições retroativas para resolver o sistema \n",
    "       linear triangular superior Ax=b.\n",
    "       Parâmetros de entrada: A é uma matriz triangular superior e b é o vetor constante. \n",
    "    '''\n",
    "    ## n é a ordem da matriz A\n",
    "    n = len(A)\n",
    "    \n",
    "    ## inicializa o vetor x com tamanho n e elementos iguais a 0\n",
    "    x = n * [0] \n",
    "    \n",
    "    for i in range(n-1, -1, -1):\n",
    "        s = 0\n",
    "        for j in range(i+1, n):\n",
    "            s = s + A[i][j] * x[j]\n",
    "        x[i] = (b[i]-s)/A[i][i]\n",
    "    \n",
    "    return x"
   ]
  },
  {
   "cell_type": "code",
   "execution_count": 6,
   "id": "dd8a473b",
   "metadata": {},
   "outputs": [],
   "source": [
    "def lux(L,U,b):\n",
    "    '''\n",
    "    Resolve o sistema LUx=b.\n",
    "    Esse método resolve os dois sistemas lineares triangulares.\n",
    "    Parâmetros de entrada: L é uma matriz triangular inferior de ordem n,\n",
    "    U é uma matriz triangular superior e b é o vetor constante.\n",
    "    Saída: vetor x solução do sistema.\n",
    "    '''\n",
    "    \n",
    "    y = substituicoes_sucessivas(L, b)\n",
    "    x = substituicoes_retroativas(U, y)\n",
    "    \n",
    "    return x"
   ]
  },
  {
   "cell_type": "code",
   "execution_count": 7,
   "id": "fc8645a8",
   "metadata": {},
   "outputs": [
    {
     "name": "stdout",
     "output_type": "stream",
     "text": [
      "[2.0, -1.0, 3.0]\n"
     ]
    }
   ],
   "source": [
    "A = [[1, -3, 2],\n",
    "     [-2, 8, -1],\n",
    "     [4, -6, 5]]\n",
    "b = [11, -15, 29]\n",
    "(L, U) = lu(A)\n",
    "x = lux(L, U, b)\n",
    "print(x)"
   ]
  }
 ],
 "metadata": {
  "kernelspec": {
   "display_name": "Python 3 (ipykernel)",
   "language": "python",
   "name": "python3"
  },
  "language_info": {
   "codemirror_mode": {
    "name": "ipython",
    "version": 3
   },
   "file_extension": ".py",
   "mimetype": "text/x-python",
   "name": "python",
   "nbconvert_exporter": "python",
   "pygments_lexer": "ipython3",
   "version": "3.9.7"
  }
 },
 "nbformat": 4,
 "nbformat_minor": 5
}
